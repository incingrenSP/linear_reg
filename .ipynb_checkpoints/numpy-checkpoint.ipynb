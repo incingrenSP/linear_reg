{
 "cells": [
  {
   "cell_type": "code",
   "execution_count": 2,
   "id": "c7a28426-c9b2-4308-b826-e1622bfcc484",
   "metadata": {},
   "outputs": [],
   "source": [
    "import numpy as np\n",
    "import pandas as pd"
   ]
  },
  {
   "cell_type": "code",
   "execution_count": 3,
   "id": "51d2674b-6f9a-4701-ac90-779581bc02b0",
   "metadata": {},
   "outputs": [],
   "source": [
    "w = np.array([0.1, 0.2, 0.3])\n",
    "d = np.array([0.5, 1.3, 3.4])"
   ]
  },
  {
   "cell_type": "code",
   "execution_count": 4,
   "id": "5e3e554e-7a24-4ecf-8496-5d339bc721e1",
   "metadata": {},
   "outputs": [],
   "source": [
    "w = w - 0.1 * d"
   ]
  },
  {
   "cell_type": "code",
   "execution_count": 5,
   "id": "044af649-fe85-42d5-b78e-a3afa20051be",
   "metadata": {},
   "outputs": [
    {
     "data": {
      "text/plain": [
       "array([ 0.05,  0.07, -0.04])"
      ]
     },
     "execution_count": 5,
     "metadata": {},
     "output_type": "execute_result"
    }
   ],
   "source": [
    "w"
   ]
  },
  {
   "cell_type": "code",
   "execution_count": 6,
   "id": "d6341f30-7041-4116-b1b2-513a824de45d",
   "metadata": {},
   "outputs": [],
   "source": [
    "graph = {\n",
    "    'x' : [-2, -1, 0, 1, 2],\n",
    "    'y' : [0.13234, 0.47477, 0.8172, 1.15963, 1.50206]\n",
    "}"
   ]
  },
  {
   "cell_type": "code",
   "execution_count": 7,
   "id": "373b4538-93dd-4da0-8cad-e5ff32895bc9",
   "metadata": {},
   "outputs": [],
   "source": [
    "df = pd.DataFrame(graph)\n",
    "df['z'] = np.dot(df['x'], df['y'])"
   ]
  },
  {
   "cell_type": "code",
   "execution_count": 8,
   "id": "1b228f89-529b-4fb6-9c6c-07770330e35b",
   "metadata": {},
   "outputs": [
    {
     "data": {
      "text/plain": [
       "np.float64(17.1215)"
      ]
     },
     "execution_count": 8,
     "metadata": {},
     "output_type": "execute_result"
    }
   ],
   "source": [
    "df['z'].sum()"
   ]
  },
  {
   "cell_type": "code",
   "execution_count": 9,
   "id": "131cf5c3-e019-4d4d-b1a4-a8c6c731c73f",
   "metadata": {},
   "outputs": [],
   "source": [
    "df['m'] = np.dot(7, df['z'])"
   ]
  },
  {
   "cell_type": "code",
   "execution_count": 10,
   "id": "b103a9d4-af3c-47cd-ab06-747f6b2d71e9",
   "metadata": {},
   "outputs": [
    {
     "data": {
      "text/html": [
       "<div>\n",
       "<style scoped>\n",
       "    .dataframe tbody tr th:only-of-type {\n",
       "        vertical-align: middle;\n",
       "    }\n",
       "\n",
       "    .dataframe tbody tr th {\n",
       "        vertical-align: top;\n",
       "    }\n",
       "\n",
       "    .dataframe thead th {\n",
       "        text-align: right;\n",
       "    }\n",
       "</style>\n",
       "<table border=\"1\" class=\"dataframe\">\n",
       "  <thead>\n",
       "    <tr style=\"text-align: right;\">\n",
       "      <th></th>\n",
       "      <th>x</th>\n",
       "      <th>y</th>\n",
       "      <th>z</th>\n",
       "      <th>m</th>\n",
       "    </tr>\n",
       "  </thead>\n",
       "  <tbody>\n",
       "    <tr>\n",
       "      <th>0</th>\n",
       "      <td>-2</td>\n",
       "      <td>0.13234</td>\n",
       "      <td>3.4243</td>\n",
       "      <td>23.9701</td>\n",
       "    </tr>\n",
       "    <tr>\n",
       "      <th>1</th>\n",
       "      <td>-1</td>\n",
       "      <td>0.47477</td>\n",
       "      <td>3.4243</td>\n",
       "      <td>23.9701</td>\n",
       "    </tr>\n",
       "    <tr>\n",
       "      <th>2</th>\n",
       "      <td>0</td>\n",
       "      <td>0.81720</td>\n",
       "      <td>3.4243</td>\n",
       "      <td>23.9701</td>\n",
       "    </tr>\n",
       "    <tr>\n",
       "      <th>3</th>\n",
       "      <td>1</td>\n",
       "      <td>1.15963</td>\n",
       "      <td>3.4243</td>\n",
       "      <td>23.9701</td>\n",
       "    </tr>\n",
       "    <tr>\n",
       "      <th>4</th>\n",
       "      <td>2</td>\n",
       "      <td>1.50206</td>\n",
       "      <td>3.4243</td>\n",
       "      <td>23.9701</td>\n",
       "    </tr>\n",
       "  </tbody>\n",
       "</table>\n",
       "</div>"
      ],
      "text/plain": [
       "   x        y       z        m\n",
       "0 -2  0.13234  3.4243  23.9701\n",
       "1 -1  0.47477  3.4243  23.9701\n",
       "2  0  0.81720  3.4243  23.9701\n",
       "3  1  1.15963  3.4243  23.9701\n",
       "4  2  1.50206  3.4243  23.9701"
      ]
     },
     "execution_count": 10,
     "metadata": {},
     "output_type": "execute_result"
    }
   ],
   "source": [
    "df"
   ]
  },
  {
   "cell_type": "code",
   "execution_count": 11,
   "id": "a9cbf71c-8b28-4c4d-9d74-dd5e0711f30c",
   "metadata": {},
   "outputs": [],
   "source": [
    "x = np.array([])\n",
    "val = 0"
   ]
  },
  {
   "cell_type": "code",
   "execution_count": 12,
   "id": "b9b2c472-8614-4817-b085-45c6333db811",
   "metadata": {},
   "outputs": [],
   "source": [
    "x = np.append(x, val)\n",
    "x = np.append(x, val)"
   ]
  },
  {
   "cell_type": "code",
   "execution_count": 13,
   "id": "0b3eca6d-fbe8-452a-9a5e-984828108c21",
   "metadata": {},
   "outputs": [
    {
     "data": {
      "text/plain": [
       "array([5., 5.])"
      ]
     },
     "execution_count": 13,
     "metadata": {},
     "output_type": "execute_result"
    }
   ],
   "source": [
    "x = x + 5\n",
    "x"
   ]
  },
  {
   "cell_type": "code",
   "execution_count": 14,
   "id": "974d013e-fc63-4177-9fc4-91883a94f63b",
   "metadata": {},
   "outputs": [],
   "source": [
    "res = 3 * x + 5"
   ]
  },
  {
   "cell_type": "code",
   "execution_count": 15,
   "id": "65c7f1d7-9a93-4af7-a565-61ce6463388a",
   "metadata": {},
   "outputs": [
    {
     "data": {
      "text/plain": [
       "array([20., 20.])"
      ]
     },
     "execution_count": 15,
     "metadata": {},
     "output_type": "execute_result"
    }
   ],
   "source": [
    "res"
   ]
  },
  {
   "cell_type": "code",
   "execution_count": 16,
   "id": "f6d9b81a-3b2d-4b0f-bd0a-f38a2f6aa470",
   "metadata": {},
   "outputs": [],
   "source": [
    "add = np.square(np.add(res, -10))"
   ]
  },
  {
   "cell_type": "code",
   "execution_count": 17,
   "id": "c5676f1b-c02c-43db-a192-7385e7bcff1d",
   "metadata": {},
   "outputs": [
    {
     "data": {
      "text/plain": [
       "array([10., 10.])"
      ]
     },
     "execution_count": 17,
     "metadata": {},
     "output_type": "execute_result"
    }
   ],
   "source": [
    "res = res - 10\n",
    "res"
   ]
  },
  {
   "cell_type": "code",
   "execution_count": 18,
   "id": "ba770e55-5bdc-4427-be98-f5500bdd478c",
   "metadata": {},
   "outputs": [
    {
     "data": {
      "text/plain": [
       "np.float64(200.0)"
      ]
     },
     "execution_count": 18,
     "metadata": {},
     "output_type": "execute_result"
    }
   ],
   "source": [
    "add.sum()"
   ]
  },
  {
   "cell_type": "code",
   "execution_count": 19,
   "id": "93659af4-5037-41d7-828b-a54913b043f6",
   "metadata": {},
   "outputs": [],
   "source": [
    "df['z'] = df['x'] * 0.5 + 5"
   ]
  },
  {
   "cell_type": "code",
   "execution_count": 20,
   "id": "0981c0dd-a919-41f9-8d59-083b7994469a",
   "metadata": {},
   "outputs": [
    {
     "data": {
      "text/html": [
       "<div>\n",
       "<style scoped>\n",
       "    .dataframe tbody tr th:only-of-type {\n",
       "        vertical-align: middle;\n",
       "    }\n",
       "\n",
       "    .dataframe tbody tr th {\n",
       "        vertical-align: top;\n",
       "    }\n",
       "\n",
       "    .dataframe thead th {\n",
       "        text-align: right;\n",
       "    }\n",
       "</style>\n",
       "<table border=\"1\" class=\"dataframe\">\n",
       "  <thead>\n",
       "    <tr style=\"text-align: right;\">\n",
       "      <th></th>\n",
       "      <th>x</th>\n",
       "      <th>y</th>\n",
       "      <th>z</th>\n",
       "      <th>m</th>\n",
       "    </tr>\n",
       "  </thead>\n",
       "  <tbody>\n",
       "    <tr>\n",
       "      <th>0</th>\n",
       "      <td>-2</td>\n",
       "      <td>0.13234</td>\n",
       "      <td>4.0</td>\n",
       "      <td>23.9701</td>\n",
       "    </tr>\n",
       "    <tr>\n",
       "      <th>1</th>\n",
       "      <td>-1</td>\n",
       "      <td>0.47477</td>\n",
       "      <td>4.5</td>\n",
       "      <td>23.9701</td>\n",
       "    </tr>\n",
       "    <tr>\n",
       "      <th>2</th>\n",
       "      <td>0</td>\n",
       "      <td>0.81720</td>\n",
       "      <td>5.0</td>\n",
       "      <td>23.9701</td>\n",
       "    </tr>\n",
       "    <tr>\n",
       "      <th>3</th>\n",
       "      <td>1</td>\n",
       "      <td>1.15963</td>\n",
       "      <td>5.5</td>\n",
       "      <td>23.9701</td>\n",
       "    </tr>\n",
       "    <tr>\n",
       "      <th>4</th>\n",
       "      <td>2</td>\n",
       "      <td>1.50206</td>\n",
       "      <td>6.0</td>\n",
       "      <td>23.9701</td>\n",
       "    </tr>\n",
       "  </tbody>\n",
       "</table>\n",
       "</div>"
      ],
      "text/plain": [
       "   x        y    z        m\n",
       "0 -2  0.13234  4.0  23.9701\n",
       "1 -1  0.47477  4.5  23.9701\n",
       "2  0  0.81720  5.0  23.9701\n",
       "3  1  1.15963  5.5  23.9701\n",
       "4  2  1.50206  6.0  23.9701"
      ]
     },
     "execution_count": 20,
     "metadata": {},
     "output_type": "execute_result"
    }
   ],
   "source": [
    "df"
   ]
  },
  {
   "cell_type": "code",
   "execution_count": 21,
   "id": "6c052e22-2c6b-4214-8707-d994e1fe3623",
   "metadata": {},
   "outputs": [],
   "source": [
    "temp = np.array([df['x'], df['y']])\n",
    "mult = np.array([1,2])"
   ]
  },
  {
   "cell_type": "code",
   "execution_count": 22,
   "id": "32054115-1432-4609-9e7d-526deef4d18b",
   "metadata": {},
   "outputs": [
    {
     "data": {
      "text/plain": [
       "array([-2., -1.,  0.,  1.,  2.])"
      ]
     },
     "execution_count": 22,
     "metadata": {},
     "output_type": "execute_result"
    }
   ],
   "source": [
    "np.dot(mult[0], temp[0])"
   ]
  },
  {
   "cell_type": "code",
   "execution_count": 23,
   "id": "4176b5d0-5cae-42c8-b520-0161a152ee24",
   "metadata": {},
   "outputs": [
    {
     "data": {
      "text/plain": [
       "array([0.26468, 0.94954, 1.6344 , 2.31926, 3.00412])"
      ]
     },
     "execution_count": 23,
     "metadata": {},
     "output_type": "execute_result"
    }
   ],
   "source": [
    "np.dot(mult[1], temp[1])"
   ]
  },
  {
   "cell_type": "code",
   "execution_count": 28,
   "id": "8f4363f4-a4d4-447e-a59a-c9462eb81e13",
   "metadata": {},
   "outputs": [],
   "source": [
    "test = np.zeros(5)"
   ]
  },
  {
   "cell_type": "code",
   "execution_count": 29,
   "id": "923079d9-2468-4468-b4aa-dc7bf9937b0e",
   "metadata": {},
   "outputs": [
    {
     "data": {
      "text/plain": [
       "array([0., 0., 0., 0., 0.])"
      ]
     },
     "execution_count": 29,
     "metadata": {},
     "output_type": "execute_result"
    }
   ],
   "source": [
    "test"
   ]
  },
  {
   "cell_type": "code",
   "execution_count": null,
   "id": "05d125f1-f059-4417-a8b2-26d218477c4e",
   "metadata": {},
   "outputs": [],
   "source": []
  }
 ],
 "metadata": {
  "kernelspec": {
   "display_name": "Python 3 (ipykernel)",
   "language": "python",
   "name": "python3"
  },
  "language_info": {
   "codemirror_mode": {
    "name": "ipython",
    "version": 3
   },
   "file_extension": ".py",
   "mimetype": "text/x-python",
   "name": "python",
   "nbconvert_exporter": "python",
   "pygments_lexer": "ipython3",
   "version": "3.12.3"
  }
 },
 "nbformat": 4,
 "nbformat_minor": 5
}
